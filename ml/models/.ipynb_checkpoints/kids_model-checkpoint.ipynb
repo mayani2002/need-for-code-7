{
 "cells": [
  {
   "cell_type": "code",
   "execution_count": 1,
   "id": "5082aaa0",
   "metadata": {},
   "outputs": [],
   "source": [
    "import numpy as np\n",
    "import pandas as pd\n",
    "import matplotlib.pyplot as plt\n",
    "import seaborn as sns\n",
    "%matplotlib inline"
   ]
  },
  {
   "cell_type": "code",
   "execution_count": 3,
   "id": "df31065c",
   "metadata": {},
   "outputs": [],
   "source": [
    "data = pd.read_csv('../data/kids.csv')"
   ]
  },
  {
   "cell_type": "code",
   "execution_count": 4,
   "id": "984387ab",
   "metadata": {},
   "outputs": [],
   "source": [
    "pd.set_option(\"display.max_columns\",None)"
   ]
  },
  {
   "cell_type": "code",
   "execution_count": 5,
   "id": "ca44fa0c",
   "metadata": {},
   "outputs": [
    {
     "data": {
      "text/html": [
       "<div>\n",
       "<style scoped>\n",
       "    .dataframe tbody tr th:only-of-type {\n",
       "        vertical-align: middle;\n",
       "    }\n",
       "\n",
       "    .dataframe tbody tr th {\n",
       "        vertical-align: top;\n",
       "    }\n",
       "\n",
       "    .dataframe thead th {\n",
       "        text-align: right;\n",
       "    }\n",
       "</style>\n",
       "<table border=\"1\" class=\"dataframe\">\n",
       "  <thead>\n",
       "    <tr style=\"text-align: right;\">\n",
       "      <th></th>\n",
       "      <th>category</th>\n",
       "      <th>subcategory</th>\n",
       "      <th>name</th>\n",
       "      <th>current_price</th>\n",
       "      <th>raw_price</th>\n",
       "      <th>currency</th>\n",
       "      <th>discount</th>\n",
       "      <th>likes_count</th>\n",
       "      <th>is_new</th>\n",
       "      <th>brand</th>\n",
       "      <th>brand_url</th>\n",
       "      <th>codCountry</th>\n",
       "      <th>variation_0_color</th>\n",
       "      <th>variation_1_color</th>\n",
       "      <th>variation_0_thumbnail</th>\n",
       "      <th>variation_0_image</th>\n",
       "      <th>variation_1_thumbnail</th>\n",
       "      <th>variation_1_image</th>\n",
       "      <th>image_url</th>\n",
       "      <th>url</th>\n",
       "      <th>id</th>\n",
       "      <th>model</th>\n",
       "    </tr>\n",
       "  </thead>\n",
       "  <tbody>\n",
       "    <tr>\n",
       "      <th>0</th>\n",
       "      <td>kids</td>\n",
       "      <td>Sandals</td>\n",
       "      <td>Sandales d'eau à bout fermé à séchage rapide p...</td>\n",
       "      <td>16.20</td>\n",
       "      <td>32.40</td>\n",
       "      <td>USD</td>\n",
       "      <td>50</td>\n",
       "      <td>45</td>\n",
       "      <td>False</td>\n",
       "      <td>NaN</td>\n",
       "      <td>NaN</td>\n",
       "      <td>ID,MY,PH,SG,TH,VN</td>\n",
       "      <td>Dark Blue</td>\n",
       "      <td>Green</td>\n",
       "      <td>https://imgaz1.chiccdn.com/thumb/list_grid/oau...</td>\n",
       "      <td>https://imgaz1.chiccdn.com/thumb/view/oaupload...</td>\n",
       "      <td>https://imgaz1.chiccdn.com/thumb/list_grid/oau...</td>\n",
       "      <td>https://imgaz1.chiccdn.com/thumb/view/oaupload...</td>\n",
       "      <td>https://imgaz1.chiccdn.com/thumb/view/oaupload...</td>\n",
       "      <td>https://fr.newchic.com/sandals-12140/p-1696009...</td>\n",
       "      <td>1696009</td>\n",
       "      <td>SKUF46386</td>\n",
       "    </tr>\n",
       "    <tr>\n",
       "      <th>1</th>\n",
       "      <td>kids</td>\n",
       "      <td>Culottes de grossesse</td>\n",
       "      <td>Lot de 3 Culottes en Coton Pure Elastique Conv...</td>\n",
       "      <td>23.06</td>\n",
       "      <td>58.10</td>\n",
       "      <td>USD</td>\n",
       "      <td>60</td>\n",
       "      <td>202</td>\n",
       "      <td>False</td>\n",
       "      <td>NaN</td>\n",
       "      <td>NaN</td>\n",
       "      <td>ID,MY,PH,SG,TH,VN</td>\n",
       "      <td># 01</td>\n",
       "      <td># 02</td>\n",
       "      <td>https://imgaz1.chiccdn.com/thumb/list_grid/oau...</td>\n",
       "      <td>https://imgaz1.chiccdn.com/thumb/view/oaupload...</td>\n",
       "      <td>https://imgaz1.chiccdn.com/thumb/list_grid/oau...</td>\n",
       "      <td>https://imgaz1.chiccdn.com/thumb/view/oaupload...</td>\n",
       "      <td>https://imgaz1.chiccdn.com/thumb/view/oaupload...</td>\n",
       "      <td>https://fr.newchic.com/maternity-panties-4853/...</td>\n",
       "      <td>1199879</td>\n",
       "      <td>SKU763599</td>\n",
       "    </tr>\n",
       "    <tr>\n",
       "      <th>2</th>\n",
       "      <td>kids</td>\n",
       "      <td>Culottes de grossesse</td>\n",
       "      <td>Sous-vêtements de maternité confortables taill...</td>\n",
       "      <td>14.03</td>\n",
       "      <td>35.35</td>\n",
       "      <td>USD</td>\n",
       "      <td>60</td>\n",
       "      <td>153</td>\n",
       "      <td>False</td>\n",
       "      <td>NaN</td>\n",
       "      <td>NaN</td>\n",
       "      <td>ID,MY,PH,SG,TH,VN</td>\n",
       "      <td>Beige</td>\n",
       "      <td>Bleu</td>\n",
       "      <td>https://imgaz1.chiccdn.com/thumb/list_grid/oau...</td>\n",
       "      <td>https://imgaz1.chiccdn.com/thumb/view/oaupload...</td>\n",
       "      <td>https://imgaz1.chiccdn.com/thumb/list_grid/oau...</td>\n",
       "      <td>https://imgaz1.chiccdn.com/thumb/view/oaupload...</td>\n",
       "      <td>https://imgaz1.chiccdn.com/thumb/view/oaupload...</td>\n",
       "      <td>https://fr.newchic.com/maternity-panties-4853/...</td>\n",
       "      <td>1320317</td>\n",
       "      <td>SKU983263</td>\n",
       "    </tr>\n",
       "    <tr>\n",
       "      <th>3</th>\n",
       "      <td>kids</td>\n",
       "      <td>Sandals</td>\n",
       "      <td>Unisexe Kids Comfy antidérapant jardin chaussu...</td>\n",
       "      <td>6.99</td>\n",
       "      <td>13.00</td>\n",
       "      <td>USD</td>\n",
       "      <td>46</td>\n",
       "      <td>60</td>\n",
       "      <td>False</td>\n",
       "      <td>NaN</td>\n",
       "      <td>NaN</td>\n",
       "      <td>ID,MY,PH,SG,TH,VN</td>\n",
       "      <td>Yellow</td>\n",
       "      <td>Green</td>\n",
       "      <td>https://imgaz1.chiccdn.com/thumb/list_grid/oau...</td>\n",
       "      <td>https://imgaz1.chiccdn.com/thumb/view/oaupload...</td>\n",
       "      <td>https://imgaz1.chiccdn.com/thumb/list_grid/oau...</td>\n",
       "      <td>https://imgaz1.chiccdn.com/thumb/view/oaupload...</td>\n",
       "      <td>https://imgaz1.chiccdn.com/thumb/view/oaupload...</td>\n",
       "      <td>https://fr.newchic.com/sandals-12132/p-1693907...</td>\n",
       "      <td>1693907</td>\n",
       "      <td>SKUF43614</td>\n",
       "    </tr>\n",
       "    <tr>\n",
       "      <th>4</th>\n",
       "      <td>kids</td>\n",
       "      <td>Chaussures pour garçon</td>\n",
       "      <td>Sandales de plage légères pour garçon</td>\n",
       "      <td>12.45</td>\n",
       "      <td>22.00</td>\n",
       "      <td>USD</td>\n",
       "      <td>43</td>\n",
       "      <td>158</td>\n",
       "      <td>False</td>\n",
       "      <td>NaN</td>\n",
       "      <td>NaN</td>\n",
       "      <td>ID,MY,PH,SG,TH,VN</td>\n",
       "      <td>vert</td>\n",
       "      <td>Bleu</td>\n",
       "      <td>https://imgaz1.chiccdn.com/thumb/list_grid/oau...</td>\n",
       "      <td>https://imgaz1.chiccdn.com/thumb/view/oaupload...</td>\n",
       "      <td>https://imgaz1.chiccdn.com/thumb/list_grid/oau...</td>\n",
       "      <td>https://imgaz1.chiccdn.com/thumb/view/oaupload...</td>\n",
       "      <td>https://imgaz1.chiccdn.com/thumb/view/oaupload...</td>\n",
       "      <td>https://fr.newchic.com/boys-shoes-4572/p-14494...</td>\n",
       "      <td>1449419</td>\n",
       "      <td>SKUB67845</td>\n",
       "    </tr>\n",
       "  </tbody>\n",
       "</table>\n",
       "</div>"
      ],
      "text/plain": [
       "  category             subcategory  \\\n",
       "0     kids                 Sandals   \n",
       "1     kids   Culottes de grossesse   \n",
       "2     kids   Culottes de grossesse   \n",
       "3     kids                 Sandals   \n",
       "4     kids  Chaussures pour garçon   \n",
       "\n",
       "                                                name  current_price  \\\n",
       "0  Sandales d'eau à bout fermé à séchage rapide p...          16.20   \n",
       "1  Lot de 3 Culottes en Coton Pure Elastique Conv...          23.06   \n",
       "2  Sous-vêtements de maternité confortables taill...          14.03   \n",
       "3  Unisexe Kids Comfy antidérapant jardin chaussu...           6.99   \n",
       "4              Sandales de plage légères pour garçon          12.45   \n",
       "\n",
       "   raw_price currency  discount  likes_count  is_new brand brand_url  \\\n",
       "0      32.40      USD        50           45   False   NaN       NaN   \n",
       "1      58.10      USD        60          202   False   NaN       NaN   \n",
       "2      35.35      USD        60          153   False   NaN       NaN   \n",
       "3      13.00      USD        46           60   False   NaN       NaN   \n",
       "4      22.00      USD        43          158   False   NaN       NaN   \n",
       "\n",
       "          codCountry variation_0_color variation_1_color  \\\n",
       "0  ID,MY,PH,SG,TH,VN         Dark Blue             Green   \n",
       "1  ID,MY,PH,SG,TH,VN              # 01              # 02   \n",
       "2  ID,MY,PH,SG,TH,VN             Beige              Bleu   \n",
       "3  ID,MY,PH,SG,TH,VN            Yellow             Green   \n",
       "4  ID,MY,PH,SG,TH,VN              vert              Bleu   \n",
       "\n",
       "                               variation_0_thumbnail  \\\n",
       "0  https://imgaz1.chiccdn.com/thumb/list_grid/oau...   \n",
       "1  https://imgaz1.chiccdn.com/thumb/list_grid/oau...   \n",
       "2  https://imgaz1.chiccdn.com/thumb/list_grid/oau...   \n",
       "3  https://imgaz1.chiccdn.com/thumb/list_grid/oau...   \n",
       "4  https://imgaz1.chiccdn.com/thumb/list_grid/oau...   \n",
       "\n",
       "                                   variation_0_image  \\\n",
       "0  https://imgaz1.chiccdn.com/thumb/view/oaupload...   \n",
       "1  https://imgaz1.chiccdn.com/thumb/view/oaupload...   \n",
       "2  https://imgaz1.chiccdn.com/thumb/view/oaupload...   \n",
       "3  https://imgaz1.chiccdn.com/thumb/view/oaupload...   \n",
       "4  https://imgaz1.chiccdn.com/thumb/view/oaupload...   \n",
       "\n",
       "                               variation_1_thumbnail  \\\n",
       "0  https://imgaz1.chiccdn.com/thumb/list_grid/oau...   \n",
       "1  https://imgaz1.chiccdn.com/thumb/list_grid/oau...   \n",
       "2  https://imgaz1.chiccdn.com/thumb/list_grid/oau...   \n",
       "3  https://imgaz1.chiccdn.com/thumb/list_grid/oau...   \n",
       "4  https://imgaz1.chiccdn.com/thumb/list_grid/oau...   \n",
       "\n",
       "                                   variation_1_image  \\\n",
       "0  https://imgaz1.chiccdn.com/thumb/view/oaupload...   \n",
       "1  https://imgaz1.chiccdn.com/thumb/view/oaupload...   \n",
       "2  https://imgaz1.chiccdn.com/thumb/view/oaupload...   \n",
       "3  https://imgaz1.chiccdn.com/thumb/view/oaupload...   \n",
       "4  https://imgaz1.chiccdn.com/thumb/view/oaupload...   \n",
       "\n",
       "                                           image_url  \\\n",
       "0  https://imgaz1.chiccdn.com/thumb/view/oaupload...   \n",
       "1  https://imgaz1.chiccdn.com/thumb/view/oaupload...   \n",
       "2  https://imgaz1.chiccdn.com/thumb/view/oaupload...   \n",
       "3  https://imgaz1.chiccdn.com/thumb/view/oaupload...   \n",
       "4  https://imgaz1.chiccdn.com/thumb/view/oaupload...   \n",
       "\n",
       "                                                 url       id      model  \n",
       "0  https://fr.newchic.com/sandals-12140/p-1696009...  1696009  SKUF46386  \n",
       "1  https://fr.newchic.com/maternity-panties-4853/...  1199879  SKU763599  \n",
       "2  https://fr.newchic.com/maternity-panties-4853/...  1320317  SKU983263  \n",
       "3  https://fr.newchic.com/sandals-12132/p-1693907...  1693907  SKUF43614  \n",
       "4  https://fr.newchic.com/boys-shoes-4572/p-14494...  1449419  SKUB67845  "
      ]
     },
     "execution_count": 5,
     "metadata": {},
     "output_type": "execute_result"
    }
   ],
   "source": [
    "data.head()"
   ]
  },
  {
   "cell_type": "code",
   "execution_count": 6,
   "id": "ef1ef8d5",
   "metadata": {},
   "outputs": [
    {
     "data": {
      "text/plain": [
       "(4085, 22)"
      ]
     },
     "execution_count": 6,
     "metadata": {},
     "output_type": "execute_result"
    }
   ],
   "source": [
    "data.shape"
   ]
  },
  {
   "cell_type": "code",
   "execution_count": 7,
   "id": "22a0ddfc",
   "metadata": {},
   "outputs": [
    {
     "data": {
      "text/plain": [
       "(4026,)"
      ]
     },
     "execution_count": 7,
     "metadata": {},
     "output_type": "execute_result"
    }
   ],
   "source": [
    "data['model'].unique().shape"
   ]
  },
  {
   "cell_type": "code",
   "execution_count": 8,
   "id": "100cb417",
   "metadata": {},
   "outputs": [
    {
     "data": {
      "text/plain": [
       "array(['Sandals', 'Culottes de grossesse', 'Chaussures pour garçon',\n",
       "       'Robes', 'Brassières de grossesse', 'Pantalons & Jupes',\n",
       "       'Costumes pour bébé', 'Salopettes & Combinaisons',\n",
       "       'Maillots de bain', 'Coutumes & Co-ords', 'Tops & T-shirt',\n",
       "       'Costume & Jupe-culotte', 'Pyjamas', 'Flats & Loafers',\n",
       "       'Blousons & Vestes', 'Tops', 'Pantalons', 'Chaussures pour fille',\n",
       "       'Tops & Tees', 'Vêtements de nuit',\n",
       "       'Sous-vêtements de maintien de grossesse', 'Slippers', 'Trainers',\n",
       "       'Sneakers', 'Bas', 'Chaussures pour bébé', 'Sweaters & Hoodies',\n",
       "       'Chapeaux', 'Pulls & Sweat-shirts', 'Pantalons & Capris',\n",
       "       'Trousses', \"Vêtements d'extérieur & Manteaux\",\n",
       "       'Robes & Sacs de couchage', 'Chaussures pour enfant',\n",
       "       'Lingerie de grossesse', 'Accessoires pour cheveux', 'Sacs à dos',\n",
       "       'Accesssoires des vêtements', 'Écharpes', 'Chaussettes',\n",
       "       'Sets de coutumes', 'Lunettes de soleil', 'Sacs des couches',\n",
       "       'Sacs à main', 'Swimwear', 'Vêtements pour fille',\n",
       "       'Vêtements de nuit & Robes', 'Broches & Couvre-chefs',\n",
       "       'Colliers & Pendentifs', 'Imperméables', 'Accessoires pour enfant',\n",
       "       'Accessoires'], dtype=object)"
      ]
     },
     "execution_count": 8,
     "metadata": {},
     "output_type": "execute_result"
    }
   ],
   "source": [
    "data['subcategory'].unique()"
   ]
  },
  {
   "cell_type": "code",
   "execution_count": null,
   "id": "c6612f68",
   "metadata": {},
   "outputs": [],
   "source": [
    "row_subcategory_drop = ['Culottes de grossesse', 'Chaussures pour garçon',\n",
    "       'Robes', 'Brassières de grossesse', 'Pantalons & Jupes',\n",
    "       'Costumes pour bébé', 'Salopettes & Combinaisons',\n",
    "       'Maillots de bain', 'Coutumes & Co-ords', 'Tops & T-shirt',\n",
    "       'Costume & Jupe-culotte', 'Pyjamas', 'Flats & Loafers',\n",
    "       'Blousons & Vestes', 'Tops', 'Pantalons', 'Chaussures pour fille',\n",
    "       'Tops & Tees', 'Vêtements de nuit',\n",
    "       'Sous-vêtements de maintien de grossesse', 'Slippers', 'Trainers',\n",
    "       'Sneakers', 'Bas', 'Chaussures pour bébé', 'Sweaters & Hoodies',\n",
    "       'Chapeaux', 'Pulls & Sweat-shirts', 'Pantalons & Capris',\n",
    "       'Trousses', \"Vêtements d'extérieur & Manteaux\",\n",
    "       'Robes & Sacs de couchage', 'Chaussures pour enfant',\n",
    "       'Lingerie de grossesse', 'Accessoires pour cheveux', 'Sacs à dos',\n",
    "       'Accesssoires des vêtements', 'Écharpes', 'Chaussettes',\n",
    "       'Sets de coutumes', 'Lunettes de soleil', 'Sacs des couches',\n",
    "       'Sacs à main', 'Swimwear', 'Vêtements pour fille',\n",
    "       'Vêtements de nuit & Robes', 'Broches & Couvre-chefs',\n",
    "       'Colliers & Pendentifs', 'Imperméables', 'Accessoires pour enfant',\n",
    "       'Accessoires']"
   ]
  },
  {
   "cell_type": "code",
   "execution_count": null,
   "id": "071cabb0",
   "metadata": {},
   "outputs": [],
   "source": [
    "row_subcategory_drop"
   ]
  },
  {
   "cell_type": "code",
   "execution_count": null,
   "id": "ab6f6064",
   "metadata": {},
   "outputs": [],
   "source": [
    "data.isnull().sum()"
   ]
  },
  {
   "cell_type": "code",
   "execution_count": null,
   "id": "024c47cb",
   "metadata": {},
   "outputs": [],
   "source": [
    "data.info()"
   ]
  },
  {
   "cell_type": "code",
   "execution_count": null,
   "id": "3acccb2e",
   "metadata": {},
   "outputs": [],
   "source": [
    "drop_cloumns = ['discount', 'currency', 'brand', 'brand_url', 'codCountry', 'variation_0_color', 'variation_1_color', 'variation_0_thumbnail', 'variation_0_image', 'variation_1_thumbnail', 'variation_1_image', 'image_url', 'model', 'url']"
   ]
  },
  {
   "cell_type": "code",
   "execution_count": null,
   "id": "9c5a9d29",
   "metadata": {},
   "outputs": [],
   "source": [
    "df = data.drop(drop_cloumns, axis=1)"
   ]
  },
  {
   "cell_type": "code",
   "execution_count": null,
   "id": "1c72906e",
   "metadata": {},
   "outputs": [],
   "source": [
    "df.head()"
   ]
  },
  {
   "cell_type": "code",
   "execution_count": null,
   "id": "6572d4b7",
   "metadata": {},
   "outputs": [],
   "source": [
    "df['subcategory'].unique()"
   ]
  },
  {
   "cell_type": "code",
   "execution_count": null,
   "id": "8a91fd28",
   "metadata": {},
   "outputs": [],
   "source": [
    "for i in range(len(row_subcategory_drop)):\n",
    "    index_names = df[ df['subcategory'] == row_subcategory_drop[i] ].index\n",
    "    df.drop(index_names, inplace = True)"
   ]
  },
  {
   "cell_type": "code",
   "execution_count": null,
   "id": "7696ae0c",
   "metadata": {},
   "outputs": [],
   "source": [
    "df.head()"
   ]
  },
  {
   "cell_type": "code",
   "execution_count": null,
   "id": "d93f416c",
   "metadata": {},
   "outputs": [],
   "source": [
    "df.shape"
   ]
  },
  {
   "cell_type": "code",
   "execution_count": null,
   "id": "4287f928",
   "metadata": {},
   "outputs": [],
   "source": [
    "df.isnull().sum()"
   ]
  },
  {
   "cell_type": "code",
   "execution_count": null,
   "id": "a7828a20",
   "metadata": {},
   "outputs": [],
   "source": [
    "likes_features_df = df.pivot_table(index='name', columns='subcategory', values=['likes_count','current_price', 'is_new', 'raw_price']).fillna(0)\n",
    "likes_features_df.to_csv('likes_features_df_kids.csv', index=False)\n",
    "likes_features_df.head()"
   ]
  },
  {
   "cell_type": "code",
   "execution_count": null,
   "id": "a90df1c2",
   "metadata": {},
   "outputs": [],
   "source": [
    "likes_features_df.shape"
   ]
  },
  {
   "cell_type": "code",
   "execution_count": null,
   "id": "3a2c450c",
   "metadata": {},
   "outputs": [],
   "source": [
    "from scipy.sparse import csr_matrix\n",
    "\n",
    "likes_features_df_matrix = csr_matrix(likes_features_df.values)"
   ]
  },
  {
   "cell_type": "code",
   "execution_count": null,
   "id": "762c3bd2",
   "metadata": {},
   "outputs": [],
   "source": [
    "from sklearn.neighbors import NearestNeighbors"
   ]
  },
  {
   "cell_type": "code",
   "execution_count": null,
   "id": "0de435fe",
   "metadata": {},
   "outputs": [],
   "source": [
    "model_kids_knn = NearestNeighbors(metric='cosine', algorithm='brute')\n",
    "model_kids_knn.fit(likes_features_df_matrix)"
   ]
  },
  {
   "cell_type": "code",
   "execution_count": null,
   "id": "0d0dc8e3",
   "metadata": {},
   "outputs": [],
   "source": [
    "query_index = np.random.choice(likes_features_df.shape[0])\n",
    "print(query_index)"
   ]
  },
  {
   "cell_type": "code",
   "execution_count": null,
   "id": "96221e49",
   "metadata": {},
   "outputs": [],
   "source": [
    "likes_features_df.index"
   ]
  },
  {
   "cell_type": "code",
   "execution_count": null,
   "id": "f6e6bd13",
   "metadata": {},
   "outputs": [],
   "source": [
    "query_index = 0\n",
    "for i in range(likes_features_df.index.shape[0]):\n",
    "    if likes_features_df.index[i] == '1Pc Belle Épingle à Cheveux Symbole Point D&#39;interrogation De Chapeaux Point D&#39;Exclamation Flèche ':\n",
    "        query_index = i\n",
    "        \n",
    "query_index"
   ]
  },
  {
   "cell_type": "code",
   "execution_count": null,
   "id": "21fe8906",
   "metadata": {},
   "outputs": [],
   "source": [
    "likes_features_df.iloc[query_index, :]"
   ]
  },
  {
   "cell_type": "code",
   "execution_count": null,
   "id": "929dffbf",
   "metadata": {},
   "outputs": [],
   "source": [
    "distances, indices = model_kids_knn.kneighbors(likes_features_df.iloc[query_index, :].values.reshape(1,-1), n_neighbors=11)"
   ]
  },
  {
   "cell_type": "code",
   "execution_count": null,
   "id": "7f68a9d9",
   "metadata": {},
   "outputs": [],
   "source": [
    "ls =[]\n",
    "for i in range(0, len(distances.flatten())):\n",
    "    if i == 0:\n",
    "        print(\"Recommendations for {0}\".format(likes_features_df.index[query_index]))\n",
    "    else:\n",
    "        print(\"{0}: {1}, with distance of {2}\".format(i, likes_features_df.index[indices.flatten()[i]], distances.flatten()[i]))\n",
    "        ls.append(likes_features_df.index[indices.flatten()[i]])"
   ]
  },
  {
   "cell_type": "code",
   "execution_count": null,
   "id": "5235730a",
   "metadata": {},
   "outputs": [],
   "source": [
    "likes_features_df.index[indices.flatten()[7]]"
   ]
  },
  {
   "cell_type": "code",
   "execution_count": null,
   "id": "b268017a",
   "metadata": {},
   "outputs": [],
   "source": [
    "ls"
   ]
  },
  {
   "cell_type": "code",
   "execution_count": null,
   "id": "d8f8bd94",
   "metadata": {},
   "outputs": [],
   "source": [
    "new = data['name'].isin([likes_features_df.index[indices.flatten()[7]]])"
   ]
  },
  {
   "cell_type": "code",
   "execution_count": null,
   "id": "fea12c69",
   "metadata": {},
   "outputs": [],
   "source": [
    "new_ls = data['name'].isin(ls)"
   ]
  },
  {
   "cell_type": "code",
   "execution_count": null,
   "id": "4e920088",
   "metadata": {},
   "outputs": [],
   "source": [
    "data[new_ls]"
   ]
  },
  {
   "cell_type": "code",
   "execution_count": null,
   "id": "34f81ccf",
   "metadata": {},
   "outputs": [],
   "source": [
    "import pickle"
   ]
  },
  {
   "cell_type": "code",
   "execution_count": null,
   "id": "a878011e",
   "metadata": {},
   "outputs": [],
   "source": [
    "pickle.dump(model_kids_knn, open('kids_model.pkl', 'wb'))"
   ]
  },
  {
   "cell_type": "code",
   "execution_count": null,
   "id": "810c2b4a",
   "metadata": {},
   "outputs": [],
   "source": []
  }
 ],
 "metadata": {
  "kernelspec": {
   "display_name": "Python 3",
   "language": "python",
   "name": "python3"
  },
  "language_info": {
   "codemirror_mode": {
    "name": "ipython",
    "version": 3
   },
   "file_extension": ".py",
   "mimetype": "text/x-python",
   "name": "python",
   "nbconvert_exporter": "python",
   "pygments_lexer": "ipython3",
   "version": "3.8.6"
  },
  "vscode": {
   "interpreter": {
    "hash": "63963b3f4c440940f0b94a3100916033a226cb4f45979123153792d60aa56d6a"
   }
  }
 },
 "nbformat": 4,
 "nbformat_minor": 5
}
