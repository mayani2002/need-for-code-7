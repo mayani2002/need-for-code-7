{
 "cells": [
  {
   "cell_type": "code",
   "execution_count": null,
   "id": "5082aaa0",
   "metadata": {},
   "outputs": [],
   "source": [
    "import numpy as np\n",
    "import pandas as pd\n",
    "import matplotlib.pyplot as plt\n",
    "import seaborn as sns\n",
    "%matplotlib inline"
   ]
  },
  {
   "cell_type": "code",
   "execution_count": null,
   "id": "df31065c",
   "metadata": {},
   "outputs": [],
   "source": [
    "data = pd.read_csv('./data/kids.csv')"
   ]
  },
  {
   "cell_type": "code",
   "execution_count": null,
   "id": "984387ab",
   "metadata": {},
   "outputs": [],
   "source": [
    "pd.set_option(\"display.max_columns\",None)"
   ]
  },
  {
   "cell_type": "code",
   "execution_count": null,
   "id": "ca44fa0c",
   "metadata": {},
   "outputs": [],
   "source": [
    "data.head()"
   ]
  },
  {
   "cell_type": "code",
   "execution_count": null,
   "id": "ef1ef8d5",
   "metadata": {},
   "outputs": [],
   "source": [
    "data.shape"
   ]
  },
  {
   "cell_type": "code",
   "execution_count": null,
   "id": "22a0ddfc",
   "metadata": {},
   "outputs": [],
   "source": [
    "data['model'].unique().shape"
   ]
  },
  {
   "cell_type": "code",
   "execution_count": null,
   "id": "100cb417",
   "metadata": {},
   "outputs": [],
   "source": [
    "data['subcategory'].unique()"
   ]
  },
  {
   "cell_type": "code",
   "execution_count": null,
   "id": "c6612f68",
   "metadata": {},
   "outputs": [],
   "source": [
    "row_subcategory_drop = ['Culottes de grossesse', 'Chaussures pour garçon',\n",
    "       'Brassières de grossesse',\n",
    "       'Costumes pour bébé', 'Salopettes & Combinaisons',\n",
    "       'Maillots de bain', 'Coutumes & Co-ords',\n",
    "       'Costume & Jupe-culotte',\n",
    "       'Blousons & Vestes', 'Pantalons', 'Chaussures pour fille',\n",
    "       'Tops & Tees', 'Vêtements de nuit',\n",
    "       'Sous-vêtements de maintien de grossesse',\n",
    "       'Bas', 'Chaussures pour bébé',\n",
    "       'Chapeaux', 'Pantalons & Capris',\n",
    "       \"Vêtements d'extérieur & Manteaux\",\n",
    "       'Robes & Sacs de couchage', 'Chaussures pour enfant',\n",
    "       'Lingerie de grossesse', 'Accessoires pour cheveux', 'Sacs à dos',\n",
    "       'Accesssoires des vêtements', 'Écharpes', 'Chaussettes',\n",
    "       'Sets de coutumes', 'Lunettes de soleil', 'Sacs des couches',\n",
    "       'Sacs à main', 'Vêtements pour fille',\n",
    "       'Vêtements de nuit & Robes',\n",
    "       'Colliers & Pendentifs', 'Imperméables', 'Accessoires pour enfant']"
   ]
  },
  {
   "cell_type": "code",
   "execution_count": null,
   "id": "071cabb0",
   "metadata": {},
   "outputs": [],
   "source": [
    "row_subcategory_drop"
   ]
  },
  {
   "cell_type": "code",
   "execution_count": null,
   "id": "ab6f6064",
   "metadata": {},
   "outputs": [],
   "source": [
    "data.isnull().sum()"
   ]
  },
  {
   "cell_type": "code",
   "execution_count": null,
   "id": "024c47cb",
   "metadata": {},
   "outputs": [],
   "source": [
    "data.info()"
   ]
  },
  {
   "cell_type": "code",
   "execution_count": null,
   "id": "3acccb2e",
   "metadata": {},
   "outputs": [],
   "source": [
    "drop_cloumns = ['discount', 'currency', 'brand', 'brand_url', 'codCountry', 'variation_0_color', 'variation_1_color', 'variation_0_thumbnail', 'variation_0_image', 'variation_1_thumbnail', 'variation_1_image', 'image_url', 'model', 'url']"
   ]
  },
  {
   "cell_type": "code",
   "execution_count": null,
   "id": "9c5a9d29",
   "metadata": {},
   "outputs": [],
   "source": [
    "df = data.drop(drop_cloumns, axis=1)"
   ]
  },
  {
   "cell_type": "code",
   "execution_count": null,
   "id": "1c72906e",
   "metadata": {},
   "outputs": [],
   "source": [
    "df.head()"
   ]
  },
  {
   "cell_type": "code",
   "execution_count": null,
   "id": "6572d4b7",
   "metadata": {},
   "outputs": [],
   "source": [
    "df['subcategory'].unique()"
   ]
  },
  {
   "cell_type": "code",
   "execution_count": null,
   "id": "8a91fd28",
   "metadata": {},
   "outputs": [],
   "source": [
    "for i in range(len(row_subcategory_drop)):\n",
    "    index_names = df[ df['subcategory'] == row_subcategory_drop[i] ].index\n",
    "    df.drop(index_names, inplace = True)"
   ]
  },
  {
   "cell_type": "code",
   "execution_count": null,
   "id": "7696ae0c",
   "metadata": {},
   "outputs": [],
   "source": [
    "df.head()"
   ]
  },
  {
   "cell_type": "code",
   "execution_count": null,
   "id": "d93f416c",
   "metadata": {},
   "outputs": [],
   "source": [
    "df.shape"
   ]
  },
  {
   "cell_type": "code",
   "execution_count": null,
   "id": "4287f928",
   "metadata": {},
   "outputs": [],
   "source": [
    "df.isnull().sum()"
   ]
  },
  {
   "cell_type": "code",
   "execution_count": null,
   "id": "a7828a20",
   "metadata": {},
   "outputs": [],
   "source": [
    "likes_features_df = df.pivot_table(index='name', columns='subcategory', values=['likes_count','current_price', 'is_new', 'raw_price']).fillna(0)\n",
    "likes_features_df.to_csv('likes_features_df_kids.csv', index=False)\n",
    "likes_features_df.head()"
   ]
  },
  {
   "cell_type": "code",
   "execution_count": null,
   "id": "a90df1c2",
   "metadata": {},
   "outputs": [],
   "source": [
    "likes_features_df.shape"
   ]
  },
  {
   "cell_type": "code",
   "execution_count": null,
   "id": "3a2c450c",
   "metadata": {},
   "outputs": [],
   "source": [
    "from scipy.sparse import csr_matrix\n",
    "\n",
    "likes_features_df_matrix = csr_matrix(likes_features_df.values)"
   ]
  },
  {
   "cell_type": "code",
   "execution_count": null,
   "id": "762c3bd2",
   "metadata": {},
   "outputs": [],
   "source": [
    "from sklearn.neighbors import NearestNeighbors"
   ]
  },
  {
   "cell_type": "code",
   "execution_count": null,
   "id": "0de435fe",
   "metadata": {},
   "outputs": [],
   "source": [
    "model_kids_knn = NearestNeighbors(metric='cosine', algorithm='brute')\n",
    "model_kids_knn.fit(likes_features_df_matrix)"
   ]
  },
  {
   "cell_type": "code",
   "execution_count": null,
   "id": "0d0dc8e3",
   "metadata": {},
   "outputs": [],
   "source": [
    "query_index = np.random.choice(likes_features_df.shape[0])\n",
    "print(query_index)"
   ]
  },
  {
   "cell_type": "code",
   "execution_count": null,
   "id": "96221e49",
   "metadata": {},
   "outputs": [],
   "source": [
    "likes_features_df.index"
   ]
  },
  {
   "cell_type": "code",
   "execution_count": null,
   "id": "f6e6bd13",
   "metadata": {},
   "outputs": [],
   "source": [
    "query_index = 0\n",
    "for i in range(likes_features_df.index.shape[0]):\n",
    "    if likes_features_df.index[i] == '1Pc Belle Épingle à Cheveux Symbole Point D&#39;interrogation De Chapeaux Point D&#39;Exclamation Flèche ':\n",
    "        query_index = i\n",
    "        \n",
    "query_index"
   ]
  },
  {
   "cell_type": "code",
   "execution_count": null,
   "id": "21fe8906",
   "metadata": {},
   "outputs": [],
   "source": [
    "likes_features_df.iloc[query_index, :]"
   ]
  },
  {
   "cell_type": "code",
   "execution_count": null,
   "id": "929dffbf",
   "metadata": {},
   "outputs": [],
   "source": [
    "distances, indices = model_kids_knn.kneighbors(likes_features_df.iloc[query_index, :].values.reshape(1,-1), n_neighbors=11)"
   ]
  },
  {
   "cell_type": "code",
   "execution_count": null,
   "id": "7f68a9d9",
   "metadata": {},
   "outputs": [],
   "source": [
    "ls =[]\n",
    "for i in range(0, len(distances.flatten())):\n",
    "    if i == 0:\n",
    "        print(\"Recommendations for {0}\".format(likes_features_df.index[query_index]))\n",
    "    else:\n",
    "        print(\"{0}: {1}, with distance of {2}\".format(i, likes_features_df.index[indices.flatten()[i]], distances.flatten()[i]))\n",
    "        ls.append(likes_features_df.index[indices.flatten()[i]])"
   ]
  },
  {
   "cell_type": "code",
   "execution_count": null,
   "id": "5235730a",
   "metadata": {},
   "outputs": [],
   "source": [
    "likes_features_df.index[indices.flatten()[7]]"
   ]
  },
  {
   "cell_type": "code",
   "execution_count": null,
   "id": "b268017a",
   "metadata": {},
   "outputs": [],
   "source": [
    "ls"
   ]
  },
  {
   "cell_type": "code",
   "execution_count": null,
   "id": "d8f8bd94",
   "metadata": {},
   "outputs": [],
   "source": [
    "new = data['name'].isin([likes_features_df.index[indices.flatten()[7]]])"
   ]
  },
  {
   "cell_type": "code",
   "execution_count": null,
   "id": "fea12c69",
   "metadata": {},
   "outputs": [],
   "source": [
    "new_ls = data['name'].isin(ls)"
   ]
  },
  {
   "cell_type": "code",
   "execution_count": null,
   "id": "4e920088",
   "metadata": {},
   "outputs": [],
   "source": [
    "data[new_ls]"
   ]
  },
  {
   "cell_type": "code",
   "execution_count": null,
   "id": "34f81ccf",
   "metadata": {},
   "outputs": [],
   "source": [
    "import pickle"
   ]
  },
  {
   "cell_type": "code",
   "execution_count": null,
   "id": "a878011e",
   "metadata": {},
   "outputs": [],
   "source": [
    "pickle.dump(model_kids_knn, open('kids_model.pkl', 'wb'))"
   ]
  },
  {
   "cell_type": "code",
   "execution_count": null,
   "id": "810c2b4a",
   "metadata": {},
   "outputs": [],
   "source": []
  }
 ],
 "metadata": {
  "kernelspec": {
   "display_name": "Python 3.10.5 64-bit",
   "language": "python",
   "name": "python3"
  },
  "language_info": {
   "codemirror_mode": {
    "name": "ipython",
    "version": 3
   },
   "file_extension": ".py",
   "mimetype": "text/x-python",
   "name": "python",
   "nbconvert_exporter": "python",
   "pygments_lexer": "ipython3",
   "version": "3.10.5"
  },
  "vscode": {
   "interpreter": {
    "hash": "63963b3f4c440940f0b94a3100916033a226cb4f45979123153792d60aa56d6a"
   }
  }
 },
 "nbformat": 4,
 "nbformat_minor": 5
}
